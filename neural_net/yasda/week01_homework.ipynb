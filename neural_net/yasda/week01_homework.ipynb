{
  "cells": [
    {
      "cell_type": "markdown",
      "metadata": {
        "id": "BWGnGfyKn9LS"
      },
      "source": [
        "## Homework: Multilingual Embedding-based Machine Translation (7 points)"
      ]
    },
    {
      "cell_type": "markdown",
      "metadata": {
        "id": "84Ek41Rfn9LT"
      },
      "source": [
        "**In this homework** **<font color='red'>YOU</font>** will make machine translation system without using parallel corpora, alignment, attention, 100500 depth super-cool recurrent neural network and all that kind superstuff.\n",
        "\n",
        "But even without parallel corpora this system can be good enough (hopefully).\n",
        "\n",
        "For our system we choose two kindred Slavic languages: Ukrainian and Russian."
      ]
    },
    {
      "cell_type": "markdown",
      "metadata": {
        "id": "_f1-bmhEn9LT"
      },
      "source": [
        "### Feel the difference!\n",
        "\n",
        "(_синій кіт_ vs. _синій кит_)"
      ]
    },
    {
      "cell_type": "markdown",
      "metadata": {
        "id": "ASQ3nfD-n9LU"
      },
      "source": [
        "![blue_cat_blue_whale.png](https://github.com/yandexdataschool/nlp_course/raw/master/resources/blue_cat_blue_whale.png)"
      ]
    },
    {
      "cell_type": "markdown",
      "metadata": {
        "id": "M3MKhhNYn9LU"
      },
      "source": [
        "### Fragment of the Swadesh list for some slavic languages\n",
        "\n",
        "The Swadesh list is a lexicostatistical stuff. It's named after American linguist Morris Swadesh and contains basic lexis. This list are used to define subgroupings of languages, its relatedness.\n",
        "\n",
        "So we can see some kind of word invariance for different Slavic languages.\n",
        "\n",
        "\n",
        "| Russian         | Belorussian              | Ukrainian               | Polish             | Czech                         | Bulgarian            |\n",
        "|-----------------|--------------------------|-------------------------|--------------------|-------------------------------|-----------------------|\n",
        "| женщина         | жанчына, кабета, баба    | жінка                   | kobieta            | žena                          | жена                  |\n",
        "| мужчина         | мужчына                  | чоловік, мужчина        | mężczyzna          | muž                           | мъж                   |\n",
        "| человек         | чалавек                  | людина, чоловік         | człowiek           | člověk                        | човек                 |\n",
        "| ребёнок, дитя   | дзіця, дзіцёнак, немаўля | дитина, дитя            | dziecko            | dítě                          | дете                  |\n",
        "| жена            | жонка                    | дружина, жінка          | żona               | žena, manželka, choť          | съпруга, жена         |\n",
        "| муж             | муж, гаспадар            | чоловiк, муж            | mąż                | muž, manžel, choť             | съпруг, мъж           |\n",
        "| мать, мама      | маці, матка              | мати, матір, неня, мама | matka              | matka, máma, 'стар.' mateř    | майка                 |\n",
        "| отец, тятя      | бацька, тата             | батько, тато, татусь    | ojciec             | otec                          | баща, татко           |\n",
        "| много           | шмат, багата             | багато                  | wiele              | mnoho, hodně                  | много                 |\n",
        "| несколько       | некалькі, колькі         | декілька, кілька        | kilka              | několik, pár, trocha          | няколко               |\n",
        "| другой, иной    | іншы                     | інший                   | inny               | druhý, jiný                   | друг                  |\n",
        "| зверь, животное | жывёла, звер, істота     | тварина, звір           | zwierzę            | zvíře                         | животно               |\n",
        "| рыба            | рыба                     | риба                    | ryba               | ryba                          | риба                  |\n",
        "| птица           | птушка                   | птах, птиця             | ptak               | pták                          | птица                 |\n",
        "| собака, пёс     | сабака                   | собака, пес             | pies               | pes                           | куче, пес             |\n",
        "| вошь            | вош                      | воша                    | wesz               | veš                           | въшка                 |\n",
        "| змея, гад       | змяя                     | змія, гад               | wąż                | had                           | змия                  |\n",
        "| червь, червяк   | чарвяк                   | хробак, черв'як         | robak              | červ                          | червей                |\n",
        "| дерево          | дрэва                    | дерево                  | drzewo             | strom, dřevo                  | дърво                 |\n",
        "| лес             | лес                      | ліс                     | las                | les                           | гора, лес             |\n",
        "| палка           | кій, палка               | палиця                  | patyk, pręt, pałka | hůl, klacek, prut, kůl, pálka | палка, пръчка, бастун |"
      ]
    },
    {
      "cell_type": "markdown",
      "metadata": {
        "id": "vr0xbHLFn9LU"
      },
      "source": [
        "But the context distribution of these languages demonstrates even more invariance. And we can use this fact for our for our purposes."
      ]
    },
    {
      "cell_type": "markdown",
      "metadata": {
        "id": "ECNoywYNn9LU"
      },
      "source": [
        "## Data"
      ]
    },
    {
      "cell_type": "code",
      "execution_count": null,
      "metadata": {
        "id": "rCNTilA2n9LV"
      },
      "outputs": [],
      "source": [
        "import gensim\n",
        "import numpy as np\n",
        "from gensim.models import KeyedVectors"
      ]
    },
    {
      "cell_type": "markdown",
      "metadata": {
        "id": "zaPIxakVn9LV"
      },
      "source": [
        "Download embeddings here:\n",
        "* [cc.uk.300.vec.zip](https://yadi.sk/d/9CAeNsJiInoyUA)\n",
        "* [cc.ru.300.vec.zip](https://yadi.sk/d/3yG0-M4M8fypeQ)"
      ]
    },
    {
      "cell_type": "markdown",
      "metadata": {
        "id": "ZdgDqhtTn9LV"
      },
      "source": [
        "Load embeddings for ukrainian and russian."
      ]
    },
    {
      "cell_type": "code",
      "source": [
        "!unzip \"cc.uk.300.vec.zip\""
      ],
      "metadata": {
        "colab": {
          "base_uri": "https://localhost:8080/"
        },
        "id": "ewj8D_zvCkSH",
        "outputId": "7ec86c8e-fcd0-48df-b70c-c1a43a8a4347"
      },
      "execution_count": null,
      "outputs": [
        {
          "output_type": "stream",
          "name": "stdout",
          "text": [
            "Archive:  cc.uk.300.vec.zip\n",
            "replace cc.uk.300.vec? [y]es, [n]o, [A]ll, [N]one, [r]ename: y\n",
            "  inflating: cc.uk.300.vec           \n",
            "\n",
            "\n",
            "\n",
            "\n",
            "\n",
            "\n",
            "\n",
            "\n",
            "\n",
            "\n",
            "\n",
            "\n",
            "\n",
            "\n",
            "\n",
            "\n"
          ]
        }
      ]
    },
    {
      "cell_type": "code",
      "source": [
        "!unzip \"cc.ru.300.vec.zip\""
      ],
      "metadata": {
        "colab": {
          "base_uri": "https://localhost:8080/"
        },
        "id": "FRBVHfaVIjO5",
        "outputId": "4c27e17b-a93e-4b04-bb44-b058a4f7704e"
      },
      "execution_count": null,
      "outputs": [
        {
          "output_type": "stream",
          "name": "stdout",
          "text": [
            "Archive:  cc.ru.300.vec.zip\n",
            "replace cc.ru.300.vec? [y]es, [n]o, [A]ll, [N]one, [r]ename: y\n",
            "  inflating: cc.ru.300.vec           \n",
            "\n"
          ]
        }
      ]
    },
    {
      "cell_type": "code",
      "execution_count": null,
      "metadata": {
        "id": "3sWu4b0Xn9LV"
      },
      "outputs": [],
      "source": [
        "uk_emb = KeyedVectors.load_word2vec_format(\"cc.uk.300.vec\")"
      ]
    },
    {
      "cell_type": "code",
      "execution_count": null,
      "metadata": {
        "id": "nQcDO7a1n9LW"
      },
      "outputs": [],
      "source": [
        "ru_emb = KeyedVectors.load_word2vec_format(\"cc.ru.300.vec\")"
      ]
    },
    {
      "cell_type": "code",
      "execution_count": null,
      "metadata": {
        "id": "NMfR6OZin9LW",
        "colab": {
          "base_uri": "https://localhost:8080/"
        },
        "outputId": "74db57cf-2d44-4da1-a44f-6d44913fb2a5"
      },
      "outputs": [
        {
          "output_type": "execute_result",
          "data": {
            "text/plain": [
              "[('август', 1.0000001192092896),\n",
              " ('июль', 0.9383152723312378),\n",
              " ('сентябрь', 0.9240029454231262),\n",
              " ('июнь', 0.9222574830055237),\n",
              " ('октябрь', 0.9095539450645447),\n",
              " ('ноябрь', 0.8930036425590515),\n",
              " ('апрель', 0.8729087114334106),\n",
              " ('декабрь', 0.8652557730674744),\n",
              " ('март', 0.8545795679092407),\n",
              " ('февраль', 0.8401415944099426)]"
            ]
          },
          "metadata": {},
          "execution_count": 23
        }
      ],
      "source": [
        "ru_emb.most_similar([ru_emb[\"август\"]], topn=10)"
      ]
    },
    {
      "cell_type": "code",
      "execution_count": null,
      "metadata": {
        "id": "-bzgGelvn9LW",
        "colab": {
          "base_uri": "https://localhost:8080/"
        },
        "outputId": "01686372-42b3-44c9-d58c-c975b1c813d1"
      },
      "outputs": [
        {
          "output_type": "execute_result",
          "data": {
            "text/plain": [
              "[('серпень', 0.9999998807907104),\n",
              " ('липень', 0.9096441268920898),\n",
              " ('вересень', 0.9016969203948975),\n",
              " ('червень', 0.8992518782615662),\n",
              " ('жовтень', 0.8810408115386963),\n",
              " ('листопад', 0.8787633180618286),\n",
              " ('квітень', 0.8592804670333862),\n",
              " ('грудень', 0.8586863279342651),\n",
              " ('травень', 0.840811014175415),\n",
              " ('лютий', 0.8256431221961975)]"
            ]
          },
          "metadata": {},
          "execution_count": 24
        }
      ],
      "source": [
        "uk_emb.most_similar([uk_emb[\"серпень\"]])"
      ]
    },
    {
      "cell_type": "code",
      "execution_count": null,
      "metadata": {
        "id": "eBfjGyDDn9LW",
        "colab": {
          "base_uri": "https://localhost:8080/"
        },
        "outputId": "eb1678cf-9b28-4882-fd27-2fef0d8b7c6c"
      },
      "outputs": [
        {
          "output_type": "execute_result",
          "data": {
            "text/plain": [
              "[('Недопустимость', 0.24435284733772278),\n",
              " ('конструктивность', 0.23293082416057587),\n",
              " ('офор', 0.23256804049015045),\n",
              " ('deteydlya', 0.230317160487175),\n",
              " ('пресечении', 0.22632381319999695),\n",
              " ('одностороннего', 0.22608886659145355),\n",
              " ('подход', 0.2230587750673294),\n",
              " ('иболее', 0.22003726661205292),\n",
              " ('2015Александр', 0.21872766315937042),\n",
              " ('конструктивен', 0.21796567738056183)]"
            ]
          },
          "metadata": {},
          "execution_count": 25
        }
      ],
      "source": [
        "ru_emb.most_similar([uk_emb[\"серпень\"]])"
      ]
    },
    {
      "cell_type": "markdown",
      "metadata": {
        "id": "y8Z6mzg2n9LW"
      },
      "source": [
        "Load small dictionaries for correspoinding words pairs as trainset and testset."
      ]
    },
    {
      "cell_type": "code",
      "execution_count": null,
      "metadata": {
        "id": "ewr8azYmn9LW"
      },
      "outputs": [],
      "source": [
        "def load_word_pairs(filename):\n",
        "    uk_ru_pairs = []\n",
        "    uk_vectors = []\n",
        "    ru_vectors = []\n",
        "    with open(filename, \"r\") as inpf:\n",
        "        for line in inpf:\n",
        "            uk, ru = line.rstrip().split(\"\\t\")\n",
        "            if uk not in uk_emb or ru not in ru_emb:\n",
        "                continue\n",
        "            uk_ru_pairs.append((uk, ru))\n",
        "            uk_vectors.append(uk_emb[uk])\n",
        "            ru_vectors.append(ru_emb[ru])\n",
        "    return uk_ru_pairs, np.array(uk_vectors), np.array(ru_vectors)"
      ]
    },
    {
      "cell_type": "code",
      "execution_count": null,
      "metadata": {
        "id": "8o8lrwNMn9LX"
      },
      "outputs": [],
      "source": [
        "uk_ru_train, X_train, Y_train = load_word_pairs(\"ukr_rus.train.txt\")"
      ]
    },
    {
      "cell_type": "code",
      "execution_count": null,
      "metadata": {
        "id": "pvLD-VIKn9LX"
      },
      "outputs": [],
      "source": [
        "uk_ru_test, X_test, Y_test = load_word_pairs(\"ukr_rus.test.txt\")"
      ]
    },
    {
      "cell_type": "markdown",
      "metadata": {
        "id": "tqTRp45tn9LX"
      },
      "source": [
        "## Embedding space mapping"
      ]
    },
    {
      "cell_type": "markdown",
      "metadata": {
        "id": "-nOLppSVn9LX"
      },
      "source": [
        "Let $x_i \\in \\mathrm{R}^d$ be the distributed representation of word $i$ in the source language, and $y_i \\in \\mathrm{R}^d$ is the vector representation of its translation. Our purpose is to learn such linear transform $W$ that minimizes euclidian distance between $Wx_i$ and $y_i$ for some subset of word embeddings. Thus we can formulate so-called Procrustes problem:\n",
        "\n",
        "$$W^*= \\arg\\min_W \\sum_{i=1}^n||Wx_i - y_i||_2$$\n",
        "or\n",
        "$$W^*= \\arg\\min_W ||WX - Y||_F$$\n",
        "\n",
        "where $||*||_F$ - Frobenius norm.\n",
        "\n",
        "In Greek mythology, Procrustes or \"the stretcher\" was a rogue smith and bandit from Attica who attacked people by stretching them or cutting off their legs, so as to force them to fit the size of an iron bed. We make same bad things with source embedding space. Our Procrustean bed is target embedding space."
      ]
    },
    {
      "cell_type": "markdown",
      "metadata": {
        "id": "Yg1W7CnHn9LX"
      },
      "source": [
        "![embedding_mapping.png](https://github.com/yandexdataschool/nlp_course/raw/master/resources/embedding_mapping.png)"
      ]
    },
    {
      "cell_type": "markdown",
      "metadata": {
        "id": "Ts1yg1y9n9LX"
      },
      "source": [
        "![procrustes.png](https://github.com/yandexdataschool/nlp_course/raw/master/resources/procrustes.png)"
      ]
    },
    {
      "cell_type": "markdown",
      "metadata": {
        "id": "6QXFOO_2n9LX"
      },
      "source": [
        "But wait...$W^*= \\arg\\min_W \\sum_{i=1}^n||Wx_i - y_i||_2$ looks like simple multiple linear regression (without intercept fit). So let's code."
      ]
    },
    {
      "cell_type": "code",
      "execution_count": null,
      "metadata": {
        "id": "b_L6iitzn9LX"
      },
      "outputs": [],
      "source": [
        "from sklearn.linear_model import LinearRegression\n",
        "\n",
        "mapping = LinearRegression(fit_intercept=False).fit(X_train, Y_train)"
      ]
    },
    {
      "cell_type": "markdown",
      "metadata": {
        "id": "Y24h4ALhn9LX"
      },
      "source": [
        "Let's take a look at neigbours of the vector of word _\"серпень\"_ (_\"август\"_ in Russian) after linear transform."
      ]
    },
    {
      "cell_type": "code",
      "execution_count": null,
      "metadata": {
        "id": "dILWWi9On9LX",
        "colab": {
          "base_uri": "https://localhost:8080/"
        },
        "outputId": "3408886d-4af3-402a-f0c8-8d6909ffdf61"
      },
      "outputs": [
        {
          "output_type": "execute_result",
          "data": {
            "text/plain": [
              "[('апрель', 0.8541286587715149),\n",
              " ('июнь', 0.8411202430725098),\n",
              " ('март', 0.839699387550354),\n",
              " ('сентябрь', 0.8359869718551636),\n",
              " ('февраль', 0.832929790019989),\n",
              " ('октябрь', 0.8311845660209656),\n",
              " ('ноябрь', 0.8278924226760864),\n",
              " ('июль', 0.823452889919281),\n",
              " ('август', 0.8120501637458801),\n",
              " ('декабрь', 0.803900420665741)]"
            ]
          },
          "metadata": {},
          "execution_count": 101
        }
      ],
      "source": [
        "august = mapping.predict(uk_emb[\"серпень\"].reshape(1, -1))\n",
        "ru_emb.most_similar(august)"
      ]
    },
    {
      "cell_type": "markdown",
      "metadata": {
        "id": "isx5jgb6n9LX"
      },
      "source": [
        "We can see that neighbourhood of this embedding cosists of different months, but right variant is on the ninth place."
      ]
    },
    {
      "cell_type": "markdown",
      "metadata": {
        "id": "iEelZa7vn9LY"
      },
      "source": [
        "As quality measure we will use precision top-1, top-5 and top-10 (for each transformed Ukrainian embedding we count how many right target pairs are found in top N nearest neighbours in Russian embedding space)."
      ]
    },
    {
      "cell_type": "code",
      "execution_count": null,
      "metadata": {
        "id": "plVKdOk1n9LY"
      },
      "outputs": [],
      "source": [
        "def precision(pairs, mapped_vectors, topn=1):\n",
        "    \"\"\"\n",
        "    :args:\n",
        "        pairs = list of right word pairs [(uk_word_0, ru_word_0), ...]\n",
        "        mapped_vectors = list of embeddings after mapping from source embedding space to destination embedding space\n",
        "        topn = the number of nearest neighbours in destination embedding space to choose from\n",
        "    :returns:\n",
        "        precision_val, float number, total number of words for those we can find right translation at top K.\n",
        "    \"\"\"\n",
        "\n",
        "    assert len(pairs) == len(mapped_vectors)\n",
        "    num_matches = 0\n",
        "    for i, (_, ru) in enumerate(pairs):\n",
        "        result = ru_emb.most_similar(mapped_vectors[i].reshape(1, -1))\n",
        "        for k in range(topn):\n",
        "            if pairs[i][1] == result[k][0]:\n",
        "              num_matches += 1\n",
        "    precision_val = num_matches / len(pairs)\n",
        "    return precision_val\n"
      ]
    },
    {
      "cell_type": "code",
      "source": [
        "precision(uk_ru_test, X_test, topn=1)"
      ],
      "metadata": {
        "colab": {
          "base_uri": "https://localhost:8080/"
        },
        "id": "ajAK9vZPWR_h",
        "outputId": "754fab1a-742b-41c6-d457-53164c6e12f5"
      },
      "execution_count": null,
      "outputs": [
        {
          "output_type": "execute_result",
          "data": {
            "text/plain": [
              "0.0"
            ]
          },
          "metadata": {},
          "execution_count": 107
        }
      ]
    },
    {
      "cell_type": "code",
      "execution_count": null,
      "metadata": {
        "id": "iy_Bi_6Vn9LY"
      },
      "outputs": [],
      "source": [
        "assert precision([(\"серпень\", \"август\")], august, topn=5) == 0.0\n",
        "assert precision([(\"серпень\", \"август\")], august, topn=9) == 1.0\n",
        "assert precision([(\"серпень\", \"август\")], august, topn=10) == 1.0"
      ]
    },
    {
      "cell_type": "code",
      "execution_count": null,
      "metadata": {
        "id": "PIx9jimHn9LY"
      },
      "outputs": [],
      "source": [
        "assert precision(uk_ru_test, X_test) == 0.0\n",
        "assert precision(uk_ru_test, Y_test) == 1.0"
      ]
    },
    {
      "cell_type": "code",
      "execution_count": null,
      "metadata": {
        "id": "EIvIYsPqn9LY"
      },
      "outputs": [],
      "source": [
        "precision_top1 = precision(uk_ru_test, mapping.predict(X_test), 1)\n",
        "precision_top5 = precision(uk_ru_test, mapping.predict(X_test), 5)\n",
        "\n",
        "assert precision_top1 >= 0.635\n",
        "assert precision_top5 >= 0.813"
      ]
    },
    {
      "cell_type": "markdown",
      "metadata": {
        "id": "8Zg9kGZYn9LY"
      },
      "source": [
        "## Making it better (orthogonal Procrustean problem)"
      ]
    },
    {
      "cell_type": "markdown",
      "metadata": {
        "id": "PucTbErqn9LY"
      },
      "source": [
        "It can be shown (see original paper) that a self-consistent linear mapping between semantic spaces should be orthogonal.\n",
        "We can restrict transform $W$ to be orthogonal. Then we will solve next problem:\n",
        "\n",
        "$$W^*= \\arg\\min_W ||WX - Y||_F \\text{, where: } W^TW = I$$\n",
        "\n",
        "$$I \\text{- identity matrix}$$\n",
        "\n",
        "Instead of making yet another regression problem we can find optimal orthogonal transformation using singular value decomposition. It turns out that optimal transformation $W^*$ can be expressed via SVD components:\n",
        "$$X^TY=U\\Sigma V^T\\text{, singular value decompostion}$$\n",
        "$$W^*=UV^T$$"
      ]
    },
    {
      "cell_type": "code",
      "execution_count": null,
      "metadata": {
        "id": "5uzaHQgjn9LY"
      },
      "outputs": [],
      "source": [
        "import numpy as np\n",
        "\n",
        "def learn_transform(X_train, Y_train):\n",
        "    \"\"\"\n",
        "    :returns: W* : float matrix[emb_dim x emb_dim] as defined in formulae above\n",
        "    \"\"\"\n",
        "    matrix = X_train.T @ Y_train\n",
        "    U, S, Vh = np.linalg.svd(matrix, full_matrices=True)\n",
        "    return U @ Vh"
      ]
    },
    {
      "cell_type": "code",
      "execution_count": null,
      "metadata": {
        "id": "gax_60rin9LY"
      },
      "outputs": [],
      "source": [
        "W = learn_transform(X_train, Y_train)"
      ]
    },
    {
      "cell_type": "code",
      "execution_count": null,
      "metadata": {
        "id": "TpSQYpUZn9LY",
        "colab": {
          "base_uri": "https://localhost:8080/"
        },
        "outputId": "e2c19ddf-7088-46a4-84d2-1b379c293f6d"
      },
      "outputs": [
        {
          "output_type": "execute_result",
          "data": {
            "text/plain": [
              "[('апрель', 0.8237906694412231),\n",
              " ('сентябрь', 0.8049713373184204),\n",
              " ('март', 0.8025653958320618),\n",
              " ('июнь', 0.8021842241287231),\n",
              " ('октябрь', 0.8001735806465149),\n",
              " ('ноябрь', 0.7934483289718628),\n",
              " ('февраль', 0.7914120554924011),\n",
              " ('июль', 0.7908109426498413),\n",
              " ('август', 0.7891016602516174),\n",
              " ('декабрь', 0.7686373591423035)]"
            ]
          },
          "metadata": {},
          "execution_count": 118
        }
      ],
      "source": [
        "ru_emb.most_similar([np.matmul(uk_emb[\"серпень\"], W)])"
      ]
    },
    {
      "cell_type": "code",
      "execution_count": null,
      "metadata": {
        "id": "Q-ixYPExn9LY"
      },
      "outputs": [],
      "source": [
        "assert precision(uk_ru_test, np.matmul(X_test, W)) >= 0.653\n",
        "assert precision(uk_ru_test, np.matmul(X_test, W), 5) >= 0.824"
      ]
    },
    {
      "cell_type": "markdown",
      "metadata": {
        "id": "YMjvvX6sn9LZ"
      },
      "source": [
        "## UK-RU Translator"
      ]
    },
    {
      "cell_type": "markdown",
      "metadata": {
        "id": "2qwh4sz9n9LZ"
      },
      "source": [
        "Now we are ready to make simple word-based translator: for each word in source language in shared embedding space we find the nearest in target language.\n"
      ]
    },
    {
      "cell_type": "code",
      "execution_count": null,
      "metadata": {
        "id": "tfM-Dtpen9LZ"
      },
      "outputs": [],
      "source": [
        "with open(\"fairy_tale.txt\", \"r\") as inpf:\n",
        "    uk_sentences = [line.rstrip().lower() for line in inpf]"
      ]
    },
    {
      "cell_type": "code",
      "execution_count": null,
      "metadata": {
        "id": "6DKdPxy1n9LZ"
      },
      "outputs": [],
      "source": [
        "def translate(sentence):\n",
        "    \"\"\"\n",
        "    :args:\n",
        "        sentence - sentence in Ukrainian (str)\n",
        "    :returns:\n",
        "        translation - sentence in Russian (str)\n",
        "\n",
        "    * find ukrainian embedding for each word in sentence\n",
        "    * transform ukrainian embedding vector\n",
        "    * find nearest russian word and replace\n",
        "    \"\"\"\n",
        "    words = sentence.split()\n",
        "    result = []\n",
        "    for word in words:\n",
        "        if word.isalpha():\n",
        "            try:\n",
        "                result.append(ru_emb.most_similar([np.matmul(uk_emb[word], W)])[0][0])\n",
        "            except:\n",
        "                result.append(word)\n",
        "        else:\n",
        "            result.append(word)\n",
        "    return \" \".join(result)"
      ]
    },
    {
      "cell_type": "code",
      "execution_count": null,
      "metadata": {
        "id": "t_maYWtCn9LZ"
      },
      "outputs": [],
      "source": [
        "assert translate(\".\") == \".\"\n",
        "assert translate(\"1 , 3\") == \"1 , 3\"\n",
        "assert translate(\"кіт зловив мишу\") == \"кот поймал мышку\""
      ]
    },
    {
      "cell_type": "code",
      "execution_count": null,
      "metadata": {
        "id": "Q4KSPXyXn9LZ",
        "colab": {
          "base_uri": "https://localhost:8080/"
        },
        "outputId": "63b4a6d2-a984-4818-d837-64a67628b5c6"
      },
      "outputs": [
        {
          "output_type": "stream",
          "name": "stdout",
          "text": [
            "src: лисичка - сестричка і вовк - панібрат\n",
            "dst: лисичка - сестричка и волк - панібрат\n",
            "\n",
            "src: як була собі лисичка та зробила хатку, та й живе. а це приходять холоди. от лисичка замерзла та й побігла в село вогню добувать, щоб витопити. прибігає до одної баби та й каже:\n",
            "dst: как была себе лисичка и сделала хатку, и и живе. а оно приходят холоди. из лисичка замерзла и и побежала во село огня добувать, чтобы витопити. прибегает к одной бабы и и каже:\n",
            "\n",
            "src: — здорові були, бабусю! з неділею... позичте мені огню, я вам одслужу.\n",
            "dst: — здоровые були, бабусю! со неділею... позичте мне огню, мной тебе одслужу.\n",
            "\n",
            "src: — добре, — каже, — лисичко - сестричко. сідай погрійся трохи, поки я пиріжечки повибираю з печі!\n",
            "dst: — добре, — каже, — лисичко - сестричко. садись погрійся трохи, пока мной пирожки повибираю со печі!\n",
            "\n",
            "src: а баба макові пиріжки пекла. от баба вибирає пиріжки та на столі кладе, щоб прохололи; а лисичка підгляділа та за пиріг, та з хати... виїла мачок із середини, а туди напхала сміттячка, стулила та й біжить.\n",
            "dst: а бабка маковые пирожки пекла. из бабка выбирает пирожки и по столе кладе, чтобы прохололи; а лисичка підгляділа и за пиріг, и со хати... виїла мачок со середини, а туда напхала сміттячка, стулила и и біжить.\n",
            "\n",
            "src: от біжить, а хлопці товар женуть до води.\n",
            "dst: из біжить, а парни товар гонят к води.\n",
            "\n",
            "src: — здорові були, хлопці!\n",
            "dst: — здоровые були, хлопці!\n",
            "\n",
            "src: — здорова, лисичко - сестричко!\n",
            "dst: — здорова, лисичко - сестричко!\n",
            "\n",
            "src: — проміняйте мені бичка - третячка на маковий пиріжок!\n",
            "dst: — проміняйте мне бычка - третячка по маковый пиріжок!\n",
            "\n",
            "src: — добре, — кажуть.\n",
            "dst: — добре, — кажуть.\n",
            "\n",
            "src: — тільки, — каже, — тепер не їжте, а як я вибіжу з села, то тоді.\n",
            "dst: — тільки, — каже, — теперь не їжте, а как мной вибіжу со села, то тоді.\n",
            "\n",
            "src: от помінялись. лисичка за бичка — та в ліс. а хлопці до пиріжка — а там сміттянко.\n",
            "dst: из помінялись. лисичка за бычка — и во ліс. а парни к пирожка — а там сміттянко.\n",
            "\n",
            "src: от прибігла лисичка до своєї хатки, вирубала дерево, зробила санки, запрягла бичка — іде. аж біжить вовк:\n",
            "dst: из прибежала лисичка к своего хатки, вирубала дерево, сделала санки, запрягла бычка — іде. аж бежит вовк:\n",
            "\n",
            "src: — здорова, лисичко - сестричко!\n",
            "dst: — здорова, лисичко - сестричко!\n",
            "\n",
            "src: — здоров, вовчику - братику!\n",
            "dst: — здоров, вовчику - братику!\n",
            "\n",
            "src: — де ти взяла бичка - третячка і санки?\n",
            "dst: — куда ты взяла бычка - третячка и санки?\n",
            "\n",
            "src: — зробила собі!\n",
            "dst: — сделала собі!\n",
            "\n",
            "src: — підвези ж, — каже, — мене, лисичко - сестричко!\n",
            "dst: — підвези ж, — каже, — мене, лисичко - сестричко!\n",
            "\n",
            "src: — е, куди я тебе візьму? ти мені й санки поламаєш!\n",
            "dst: — е, куда мной тебя візьму? ты мне и санки поламаєш!\n",
            "\n",
            "src: — ні, — каже, — я тільки одну ніжку положу.\n",
            "dst: — ні, — каже, — мной только одну ножку положу.\n",
            "\n",
            "src: — ну, клади!\n",
            "dst: — ну, клади!\n",
            "\n",
            "src: от од’їхали трохи, вовк і каже:\n",
            "dst: из од’їхали трохи, волк и каже:\n",
            "\n",
            "src: — положу я, лисичко - сестричко, й другу ніжку!\n",
            "dst: — положу я, лисичко - сестричко, и вторую ніжку!\n",
            "\n",
            "src: — е, вовчику - братику, ти мені й санки поламаєш!\n",
            "dst: — е, вовчику - братику, ты мне и санки поламаєш!\n",
            "\n",
            "src: — ні, — каже, — не поламаю!\n",
            "dst: — ні, — каже, — не поламаю!\n",
            "\n",
            "src: — ну, клади!\n",
            "dst: — ну, клади!\n",
            "\n",
            "src: вовк і положив. ідуть, їдуть, коли це щось — трісь.\n",
            "dst: волк и положив. ідуть, їдуть, когда оно что-то — трісь.\n",
            "\n",
            "src: — е, вовчику - братику, ти мені вже й санки ламаєш!\n",
            "dst: — е, вовчику - братику, ты мне уже и санки ламаєш!\n",
            "\n",
            "src: — ні лисичко - сестричко, то я орішок розкусив.\n",
            "dst: — ни лисичко - сестричко, то мной орішок розкусив.\n",
            "\n",
            "src: — ну, гляди!\n",
            "dst: — ну, гляди!\n",
            "\n",
            "src: от їдуть...\n",
            "dst: из їдуть...\n",
            "\n",
            "src: — положу я, лисичко - сестричко, й третю ніжку! — каже вовк.\n",
            "dst: — положу я, лисичко - сестричко, и третью ніжку! — говорит вовк.\n",
            "\n",
            "src: — куди ти положиш? ти мені санки поламаєш! чим я тоді дровець привезу?\n",
            "dst: — куда ты положиш? ты мне санки поламаєш! Чем мной тогда дровець привезу?\n",
            "\n",
            "src: — ні, — каже, — не поламаю.\n",
            "dst: — ні, — каже, — не поламаю.\n",
            "\n",
            "src: — ну, клади.\n",
            "dst: — ну, клади.\n",
            "\n",
            "src: вовк положив і третю ногу. коли це — трісь!\n",
            "dst: волк положил и третью ногу. когда оно — трісь!\n",
            "\n",
            "src: — ой лихо! — каже лисичка. — йди собі геть, вовчику, — ти мені зовсім санки поламаєш.\n",
            "dst: — ой лихо! — говорит лисичка. — иди себе геть, вовчику, — ты мне совсем санки поламаєш.\n",
            "\n",
            "src: — ні, то я орішок розкусив!\n",
            "dst: — ні, то мной орішок розкусив!\n",
            "\n",
            "src: — дай же й мені!\n",
            "dst: — дай то и мені!\n",
            "\n",
            "src: — нема, — каже, — останній!\n",
            "dst: — нема, — каже, — останній!\n",
            "\n",
            "src: їдуть собі та й їдуть; вовчик і каже:\n",
            "dst: едут себе и и їдуть; вовчик и каже:\n",
            "\n",
            "src: — сяду я зовсім, лисичко!\n",
            "dst: — сяду мной зовсім, лисичко!\n",
            "\n",
            "src: — куди ти сядеш, вовчику - братику? і санки розламаєш!\n",
            "dst: — куда ты сядеш, вовчику - братику? и санки розламаєш!\n",
            "\n",
            "src: — я помаленьку, — каже.\n",
            "dst: — мной помаленьку, — каже.\n",
            "\n",
            "src: — ну, гляди!\n",
            "dst: — ну, гляди!\n",
            "\n",
            "src: от вовчик тільки що сів, а санки так і розпались... лисичка тоді давай його лаять! лаяла - лаяла та й каже:\n",
            "dst: из вовчик только что сів, а санки так и розпались... лисичка тогда давай его лаять! ругала - ругала и и каже:\n",
            "\n",
            "src: — піди ж, сякий - такий сину, дровець нарубай і на санки вирубай, і приволочи!\n",
            "dst: — пойди ж, сякий - такой сину, дровець нарубай и по санки вирубай, и приволочи!\n",
            "\n",
            "src: — як же я, — каже вовчик, — вирубаю, коли я не знаю, якого дерева?\n",
            "dst: — как то я, — говорит вовчик, — вирубаю, когда мной не знаю, которого дерева?\n",
            "\n",
            "src: — е, — сякий - такий сину! як санчата ламать, так і знав, а дровець вирубать, то й ні!\n",
            "dst: — е, — сякий - такой сину! как санки ламать, так и знав, а дровець вирубать, то и ні!\n",
            "\n",
            "src: коришувала його, коришувала...\n",
            "dst: коришувала його, коришувала...\n",
            "\n",
            "src: — як увійдеш, — каже, — в ліс, то кажи: « рубайся, дерево, й пряме, й криве! рубайся, дерево, й пряме, й криве! »\n",
            "dst: — как увійдеш, — каже, — во ліс, то кажи: « рубайся, дерево, и пряме, и криве! рубайся, дерево, и пряме, и криве! »\n",
            "\n",
            "src: вовк і пішов.\n",
            "dst: волк и пішов.\n",
            "\n",
            "src: от приходить в ліс та й каже:\n",
            "dst: из приходит во лес и и каже:\n",
            "\n",
            "src: — рубайся, дерево, криве й криве!\n",
            "dst: — рубайся, дерево, кривое и криве!\n",
            "\n",
            "src: дерево й нарубалось. таке корячкувате, що й на палицю не вибереш — не то на полозок! приносить вовчик до лисички те дерево. вона як подивилась, давай його знов батькувати.\n",
            "dst: дерево и нарубалось. такое корячкувате, что и по палку не выберешь — не то по полозок! приносит вовчик к лисички что дерево. она как подивилась, давай его снова батькувати.\n",
            "\n",
            "src: — ти, — каже, — сякий - такий сину, не так казав, як я тобі веліла!\n",
            "dst: — ти, — каже, — сякий - такой сину, не так казав, как мной тебе веліла!\n",
            "\n",
            "src: — ні, лисичко - сестричко, я, — каже, — стояв та все казав: « рубайся, дерево, криве й криве! »\n",
            "dst: — ні, лисичко - сестричко, я, — каже, — стоял и всё казав: « рубайся, дерево, кривое и криве! »\n",
            "\n",
            "src: — е, бісів сину, й того недотепний! ну, сиди ж ти тут, — я сама піду нарубаю.\n",
            "dst: — е, бесов сину, и того недотепний! ну, сиди же ты тут, — мной сама пойду нарубаю.\n",
            "\n",
            "src: та й пішла.\n",
            "dst: и и пішла.\n",
            "\n",
            "src: от сидить вовк сам собі — так їсти хочеться! він думав - думав: « давай, — каже, — з’їм бичка та й утечу! » от взяв проїв дірку у бичка, із середини все виїв, а туди горобців напустив і соломою заткнув, а сам — драла... приходить лисичка, зробила санчата, сіла...\n",
            "dst: из сидит волк сам себе — так кушать хочеться! он думал - думав: « давай, — каже, — з’їм бычка и и утечу! » из взял проїв дыру во бичка, со середины всё виїв, а туда воробьёв напустил и соломой заткнув, а сам — драла... приходит лисичка, сделала санчата, сіла...\n",
            "\n",
            "src: — гей, бичок - третячок!\n",
            "dst: — гей, бычок - третячок!\n",
            "\n",
            "src: аж бичок не везе. вона його батогом. як ударила, а віхоть соломи й випав; а горобці — хррр!\n",
            "dst: аж бычок не везе. она его батогом. как ударила, а віхоть соломы и випав; а воробьи — хррр!\n",
            "\n",
            "src: — а, сякий - такий вовчик! постій же, — каже, — я тобі згадаю!\n",
            "dst: — а, сякий - такой вовчик! постой же, — каже, — мной тебе згадаю!\n",
            "\n",
            "src: та й пішла...\n",
            "dst: и и пішла...\n",
            "\n",
            "src: лягла на шляху та й лежить. ідуть чумаки з рибою; вона притаїлась, мов нежива. чумаки дивляться — аж лисиця:\n",
            "dst: легла по пути и и лежить. идут казаки со рибою; она притаїлась, языки нежива. казаки смотрят — аж лисиця:\n",
            "\n",
            "src: — візьмім, — кажуть, — бра, та продамо — буде за що хоч погрітися!\n",
            "dst: — візьмім, — кажуть, — бра, и продадим — будет за что хоть погрітися!\n",
            "\n",
            "src: скинули її на останній віз та й поїхали. ідуть та й їдуть. а лисичка - сестричка бачить, що вони не дивляться, та все кида по рибці на дорогу, все кида... от як накидала вже багато, тоді нишком і сама злізла. чумаки ж поїхали собі далі, а вона позбирала рибку, сіла та й їсть.\n",
            "dst: сбросили ей по последний визы и и поїхали. идут и и їдуть. а лисичка - сестричка бачить, что они не дивляться, и всё кида по рыбки по дорогу, всё кида... из как навязала уже багато, тогда втихаря и сама злізла. казаки же поехали себе далі, а она позбирала рибку, присела и и їсть.\n",
            "\n",
            "src: коли це біжить вовчик:\n",
            "dst: когда оно бежит вовчик:\n",
            "\n",
            "src: — здорова була, лисичко - сестричко!\n",
            "dst: — здоровая була, лисичко - сестричко!\n",
            "\n",
            "src: — здоров, вовчику - братику!\n",
            "dst: — здоров, вовчику - братику!\n",
            "\n",
            "src: — що ти робиш, лисичко - сестричко?\n",
            "dst: — что ты робиш, лисичко - сестричко?\n",
            "\n",
            "src: — рибу, — каже, — їм.\n",
            "dst: — рибу, — каже, — їм.\n",
            "\n",
            "src: — дай же й мені!\n",
            "dst: — дай то и мені!\n",
            "\n",
            "src: — піди собі налови.\n",
            "dst: — пойди себе налови.\n",
            "\n",
            "src: — так як же я наловлю, коли я не вмію?\n",
            "dst: — так как то мной наловлю, когда мной не вмію?\n",
            "\n",
            "src: — ну, як знаєш, а я не дам і кісточки!\n",
            "dst: — ну, как знаєш, а мной не дам и кісточки!\n",
            "\n",
            "src: — так хоч навчи мене, як наловить.\n",
            "dst: — так хоть научить мене, как наловить.\n",
            "\n",
            "src: а лисичка й дума: « постій же! ти мого бичка - третячка з’їв — я тепер тобі оддячу! »\n",
            "dst: а лисичка и дума: « постой же! ты моего бычка - третячка з’їв — мной теперь тебе оддячу! »\n",
            "\n",
            "src: — а так, — каже, — піди до ополонки, устроми в ополонку хвіст та потихеньку води ним і приказуй: « ловись, рибко, мала й велика! ловись, рибко, мала й велика! » то вона й наловиться.\n",
            "dst: — а так, — каже, — пойди к ополонки, устроми во прорубь хвост и потихоньку воды ним и приказуй: « ловись, рибко, имела и велика! ловись, рибко, имела и велика! » то она и наловиться.\n",
            "\n",
            "src: — ну, спасибі за науку! — каже вовчик.\n",
            "dst: — ну, спасибо за науку! — говорит вовчик.\n",
            "\n",
            "src: от прибігає вовчик до ополонки, устромив в ополонку хвіст:\n",
            "dst: из прибегает вовчик к ополонки, устромив во прорубь хвіст:\n",
            "\n",
            "src: — ловись, — каже, — рибко, мала й велика!\n",
            "dst: — ловись, — каже, — рибко, имела и велика!\n",
            "\n",
            "src: а лисичка з очерету:\n",
            "dst: а лисичка со очерету:\n",
            "\n",
            "src: — мерзни, мерзни, вовчий хвіст!\n",
            "dst: — мерзни, мерзни, волчий хвіст!\n",
            "\n",
            "src: а мороз надворі такий, що аж шкварчить! вовчик хвостиком усе водить та:\n",
            "dst: а мороз дворе такий, что аж шкварчить! вовчик хвостиком всё водит та:\n",
            "\n",
            "src: — ловись, рибко, мала й велика!\n",
            "dst: — ловись, рибко, имела и велика!\n",
            "\n",
            "src: а лисичка:\n",
            "dst: а лисичка:\n",
            "\n",
            "src: — мерзни, мерзни, вовчий хвіст!\n",
            "dst: — мерзни, мерзни, волчий хвіст!\n",
            "\n",
            "src: поки ловив вовчик рибу, поки хвіст так і прикипів в ополонці! тоді лисичка в село:\n",
            "dst: пока ловил вовчик рибу, пока хвост так и пугаясь во ополонці! тогда лисичка во село:\n",
            "\n",
            "src: — ідіть, люди, вовка бить!\n",
            "dst: — ідіть, люди, волка бить!\n",
            "\n",
            "src: люди як вискочать — з кочергами, з рогачами, із сокирами: вбили того вовка і пропав бідний! а лисичка й досі живе у своїй хатці.\n",
            "dst: люди как вискочать — со кочергами, со рогачами, со сокирами: убили того волка и пропал бідний! а лисичка и сих живет во своей хатці.\n",
            "\n"
          ]
        }
      ],
      "source": [
        "for sentence in uk_sentences:\n",
        "    print(\"src: {}\\ndst: {}\\n\".format(sentence, translate(sentence)))"
      ]
    },
    {
      "cell_type": "markdown",
      "metadata": {
        "id": "92_BhNxmn9LZ"
      },
      "source": [
        "Not so bad, right? We can easily improve translation using language model and not one but several nearest neighbours in shared embedding space. But next time."
      ]
    },
    {
      "cell_type": "markdown",
      "metadata": {
        "id": "apUoyQyqn9LZ"
      },
      "source": [
        "## Would you like to learn more?\n",
        "\n",
        "### Articles:\n",
        "* [Exploiting Similarities among Languages for Machine Translation](https://arxiv.org/pdf/1309.4168)  - entry point for multilingual embedding studies by Tomas Mikolov (the author of W2V)\n",
        "* [Offline bilingual word vectors, orthogonal transformations and the inverted softmax](https://arxiv.org/pdf/1702.03859) - orthogonal transform for unsupervised MT\n",
        "* [Word Translation Without Parallel Data](https://arxiv.org/pdf/1710.04087)\n",
        "* [Loss in Translation: Learning Bilingual Word Mapping with a Retrieval Criterion](https://arxiv.org/pdf/1804.07745)\n",
        "* [Unsupervised Alignment of Embeddings with Wasserstein Procrustes](https://arxiv.org/pdf/1805.11222)\n",
        "\n",
        "### Repos (with ready-to-use multilingual embeddings):\n",
        "* https://github.com/facebookresearch/MUSE\n",
        "\n",
        "* https://github.com/Babylonpartners/fastText_multilingual -"
      ]
    }
  ],
  "metadata": {
    "kernelspec": {
      "display_name": "Python 3",
      "language": "python",
      "name": "python3"
    },
    "language_info": {
      "codemirror_mode": {
        "name": "ipython",
        "version": 3
      },
      "file_extension": ".py",
      "mimetype": "text/x-python",
      "name": "python",
      "nbconvert_exporter": "python",
      "pygments_lexer": "ipython3",
      "version": "3.4.3"
    },
    "colab": {
      "provenance": []
    }
  },
  "nbformat": 4,
  "nbformat_minor": 0
}